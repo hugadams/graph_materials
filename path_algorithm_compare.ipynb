{
 "cells": [
  {
   "cell_type": "markdown",
   "metadata": {},
   "source": [
    "# Performance test of various implemenations of Dijkstra's Shortest Path Algorithm"
   ]
  },
  {
   "cell_type": "raw",
   "metadata": {},
   "source": [
    "Adam Hughes\n",
    "2/9/15\n",
    "George Washington University"
   ]
  },
  {
   "cell_type": "markdown",
   "metadata": {},
   "source": [
    "Dijkstra's Algorithm provides the shortest sequence of nodes to go from a `source node` to a `target node` on a weighted, undirected graph.  This notebook will compare several implementations of Dijkstra's in Python.  A simple explanation of Dijkstra's method is availble in the following video:"
   ]
  },
  {
   "cell_type": "code",
   "execution_count": 56,
   "metadata": {
    "collapsed": false
   },
   "outputs": [
    {
     "data": {
      "text/html": [
       "\n",
       "        <iframe\n",
       "            width=\"400\"\n",
       "            height=\"300\"\n",
       "            src=\"https://www.youtube.com/embed/gdmfOwyQlcI\"\n",
       "            frameborder=\"0\"\n",
       "            allowfullscreen\n",
       "        ></iframe>\n",
       "        "
      ],
      "text/plain": [
       "<IPython.lib.display.YouTubeVideo at 0xb413f6c>"
      ]
     },
     "execution_count": 56,
     "metadata": {},
     "output_type": "execute_result"
    }
   ],
   "source": [
    "from IPython.display import YouTubeVideo\n",
    "\n",
    "YouTubeVideo('gdmfOwyQlcI')"
   ]
  },
  {
   "cell_type": "markdown",
   "metadata": {},
   "source": [
    "Each implementation will be tested on the following graph:"
   ]
  },
  {
   "cell_type": "code",
   "execution_count": 45,
   "metadata": {
    "collapsed": true
   },
   "outputs": [],
   "source": [
    "graph = {'a': {'w': 14, 'x': 7, 'y': 9},\n",
    "            'b': {'w': 9, 'z': 6},\n",
    "            'w': {'a': 14, 'b': 9, 'y': 2},\n",
    "            'x': {'a': 7, 'y': 10, 'z': 15},\n",
    "            'y': {'a': 9, 'w': 2, 'x': 10, 'z': 11},\n",
    "            'z': {'b': 6, 'x': 15, 'y': 11}}"
   ]
  },
  {
   "cell_type": "markdown",
   "metadata": {},
   "source": [
    "We'll visualize this with `networkx`.  Later, we'll test networkX's performance as well."
   ]
  },
  {
   "cell_type": "code",
   "execution_count": 46,
   "metadata": {
    "collapsed": false
   },
   "outputs": [
    {
     "name": "stdout",
     "output_type": "stream",
     "text": [
      "Populating the interactive namespace from numpy and matplotlib\n"
     ]
    },
    {
     "data": {
      "image/png": "[encoded data removed]",
      "text/plain": [
       "<matplotlib.figure.Figure at 0xb3f0c8c>"
      ]
     },
     "metadata": {},
     "output_type": "display_data"
    }
   ],
   "source": [
    "%pylab inline\n",
    "import networkx as nwx\n",
    "nxgraph = nwx.Graph(graph) #nwx imposes its own Graph class\n",
    "nwx.draw_networkx(nxgraph, \n",
    "                  alpha=0.7,\n",
    "                  with_labels=True);"
   ]
  },
  {
   "cell_type": "markdown",
   "metadata": {},
   "source": [
    "### Method 1: [RebrainedBlog](http://rebrained.com/?p=392)"
   ]
  },
  {
   "cell_type": "code",
   "execution_count": 47,
   "metadata": {
    "collapsed": true
   },
   "outputs": [],
   "source": [
    "import sys\n",
    "\n",
    "def m1_shortpath(graph,start,end,visited=[],distances={},predecessors={}):\n",
    "    \"\"\"Find the shortest path between start and end nodes in a graph\"\"\"\n",
    "    # we've found our end node, now find the path to it, and return\n",
    "    if start==end:\n",
    "        path=[]\n",
    "        while end != None:\n",
    "            path.append(end)\n",
    "            end=predecessors.get(end,None)\n",
    "        return distances[start], path[::-1]\n",
    "    # detect if it's the first time through, set current distance to zero\n",
    "    if not visited: distances[start]=0\n",
    "    # process neighbors as per algorithm, keep track of predecessors\n",
    "    for neighbor in graph[start]:\n",
    "        if neighbor not in visited:\n",
    "            neighbordist = distances.get(neighbor,sys.maxint)\n",
    "            tentativedist = distances[start] + graph[start][neighbor]\n",
    "            if tentativedist < neighbordist:\n",
    "                distances[neighbor] = tentativedist\n",
    "                predecessors[neighbor]=start\n",
    "    # neighbors processed, now mark the current node as visited\n",
    "    visited.append(start)\n",
    "    # finds the closest unvisited node to the start\n",
    "    unvisiteds = dict((k, distances.get(k,sys.maxint)) for k in graph if k not in visited)\n",
    "    closestnode = min(unvisiteds, key=unvisiteds.get)\n",
    "    # now we can take the closest node and recurse, making it current\n",
    "    return m1_shortpath(graph,closestnode,end,visited,distances,predecessors)"
   ]
  },
  {
   "cell_type": "markdown",
   "metadata": {},
   "source": [
    "# Method 2: Chris Laffa/Connelly Barns [see here](http://code.activestate.com/recipes/119466-dijkstras-algorithm-for-shortest-paths/#c6)"
   ]
  },
  {
   "cell_type": "code",
   "execution_count": 48,
   "metadata": {
    "collapsed": true
   },
   "outputs": [],
   "source": [
    "import heapq\n",
    "\n",
    "def m2_shortpath(graph, start, end):\n",
    "    queue = [(0, start, [])]\n",
    "    seen = set()\n",
    "    while True:\n",
    "        (cost, v, path) = heapq.heappop(queue)\n",
    "        if v not in seen:\n",
    "            path = path + [v]\n",
    "            seen.add(v)\n",
    "            if v == end:\n",
    "                return cost, path\n",
    "            for (next, c) in graph[v].iteritems():\n",
    "                heapq.heappush(queue, (cost + c, next, path))"
   ]
  },
  {
   "cell_type": "markdown",
   "metadata": {},
   "source": [
    "# Method 3: [NVictus pqdict package](https://gist.github.com/nvictus/7854213) "
   ]
  },
  {
   "cell_type": "code",
   "execution_count": 49,
   "metadata": {
    "collapsed": true
   },
   "outputs": [],
   "source": [
    "import pqdict \n",
    "\n",
    "def dijkstra(graph, source, target=None):\n",
    "    \"\"\"\n",
    "    Computes the shortests paths from a source vertex to every other vertex in\n",
    "    a graph\n",
    "    \"\"\"\n",
    "    # The entire main loop is O( (m+n) log n ), where n is the number of\n",
    "    # vertices and m is the number of edges. If the graph is connected\n",
    "    # (i.e. the graph is in one piece), m normally dominates over n, making the\n",
    "    # algorithm O(m log n) overall.\n",
    "\n",
    "    dist = {}   \n",
    "    pred = {}\n",
    "\n",
    "    # Store distance scores in a priority queue dictionary\n",
    "    pq = pqdict.PQDict()\n",
    "    for node in graph:\n",
    "        if node == source:\n",
    "            pq[node] = 0\n",
    "        else:\n",
    "            pq[node] = float('inf')\n",
    "\n",
    "    # Remove the head node of the \"frontier\" edge from pqdict: O(log n).\n",
    "    for node, min_dist in pq.iteritems():\n",
    "        # Each node in the graph gets processed just once.\n",
    "        # Overall this is O(n log n).\n",
    "        dist[node] = min_dist\n",
    "        if node == target:\n",
    "            break\n",
    "\n",
    "        # Updating the score of any edge's node is O(log n) using pqdict.\n",
    "        # There is _at most_ one score update for each _edge_ in the graph.\n",
    "        # Overall this is O(m log n).\n",
    "        for neighbor in graph[node]:\n",
    "            if neighbor in pq:\n",
    "                new_score = dist[node] + graph[node][neighbor]\n",
    "                if new_score < pq[neighbor]:\n",
    "                    pq[neighbor] = new_score\n",
    "                    pred[neighbor] = node\n",
    "\n",
    "    return dist, pred\n",
    "\n",
    "def m3_shortpath(graph, source, target):\n",
    "    dist, pred = dijkstra(graph, source, target)\n",
    "    end = target\n",
    "    path = [end]\n",
    "    while end != source:\n",
    "        end = pred[end]\n",
    "        path.append(end)        \n",
    "    path.reverse()\n",
    "    return path"
   ]
  },
  {
   "cell_type": "markdown",
   "metadata": {},
   "source": [
    "### Implementation 1: Rebrained "
   ]
  },
  {
   "cell_type": "markdown",
   "metadata": {},
   "source": [
    "**<font color=\"red\">`%%timeit` freezes using this algorithm.  %%timeit may be incompatible with recursive function.</font>**"
   ]
  },
  {
   "cell_type": "code",
   "execution_count": 50,
   "metadata": {
    "collapsed": false
   },
   "outputs": [],
   "source": [
    "#%%timeit\n",
    "#m1_shortpath(graph,'a','b')"
   ]
  },
  {
   "cell_type": "markdown",
   "metadata": {},
   "source": [
    "### Implementation 2: Barnes"
   ]
  },
  {
   "cell_type": "code",
   "execution_count": 51,
   "metadata": {
    "collapsed": false
   },
   "outputs": [
    {
     "name": "stdout",
     "output_type": "stream",
     "text": [
      "The slowest run took 5.17 times longer than the fastest. This could mean that an intermediate result is being cached \n",
      "10000 loops, best of 3: 27.9 µs per loop\n"
     ]
    }
   ],
   "source": [
    "%%timeit\n",
    "m2_shortpath(graph,'a','b')"
   ]
  },
  {
   "cell_type": "markdown",
   "metadata": {},
   "source": [
    "### Implementation 3: NVictus"
   ]
  },
  {
   "cell_type": "code",
   "execution_count": 52,
   "metadata": {
    "collapsed": false
   },
   "outputs": [
    {
     "name": "stdout",
     "output_type": "stream",
     "text": [
      "10000 loops, best of 3: 170 µs per loop\n"
     ]
    }
   ],
   "source": [
    "%%timeit\n",
    "m3_shortpath(graph,'a','b')"
   ]
  },
  {
   "cell_type": "markdown",
   "metadata": {},
   "source": [
    "### Implementation 4: NetworkX"
   ]
  },
  {
   "cell_type": "code",
   "execution_count": 53,
   "metadata": {
    "collapsed": false
   },
   "outputs": [
    {
     "name": "stdout",
     "output_type": "stream",
     "text": [
      "10000 loops, best of 3: 86.5 µs per loop\n"
     ]
    }
   ],
   "source": [
    "%%timeit\n",
    "nwx.shortest_path(nxgraph)"
   ]
  },
  {
   "cell_type": "markdown",
   "metadata": {},
   "source": [
    "# Summary"
   ]
  },
  {
   "cell_type": "markdown",
   "metadata": {},
   "source": [
    "Method2, using Python's `heapq` datastructure was the fastest of the three tested implementations; it also had very compact, nice code. NetworkX was still fast, despite being very flexible.  I thought networkX would add more overhead than this.   This summary is not exhaustive in either methods, nor test cases (ie bigger/different graphs).\n",
    "\n",
    "While the nodes were strings, in principle, they could by any valid Python `dict` key type.  I've confirmed that implementation 2 works with [named tuples](http://pymotw.com/2/collections/namedtuple.html) as nodes, for example."
   ]
  }
 ],
 "metadata": {
  "kernelspec": {
   "display_name": "Python 2",
   "name": "python2"
  },
  "language_info": {
   "codemirror_mode": {
    "name": "ipython",
    "version": 2
   },
   "file_extension": ".py",
   "mimetype": "text/x-python",
   "name": "python",
   "nbconvert_exporter": "python",
   "pygments_lexer": "ipython2",
   "version": "2.7.6"
  }
 },
 "nbformat": 4,
 "nbformat_minor": 0
}
