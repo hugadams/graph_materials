{
 "cells": [
  {
   "cell_type": "markdown",
   "metadata": {},
   "source": [
    "The submitted code doesn't run, only because HackerRank doesn't support nosetests, so a call to `import nose` prevents it from running.  Below, I run the module from `stdin` exactly as HackerRank would.  First, let me regen the sampe data.  \n",
    "\n",
    "**The nosetests already have a method to output a string-formatted version of a list of chunks that is identical to the stdin of the HackerRank problem**, so I will just import it from those instead of typing it manually."
   ]
  },
  {
   "cell_type": "code",
   "execution_count": 6,
   "metadata": {
    "collapsed": false
   },
   "outputs": [],
   "source": [
    "from marsrover import util_chunks2string #<--- Converts list of chunks to string file\n",
    "\n",
    "sample_chunks =[(0,200), \n",
    "                (200,400),\n",
    "                (400,600), \n",
    "                (600,800),\n",
    "                (800,1000),\n",
    "                (1000,2000),\n",
    "                (0,1800)]"
   ]
  },
  {
   "cell_type": "code",
   "execution_count": 7,
   "metadata": {
    "collapsed": false
   },
   "outputs": [
    {
     "name": "stdout",
     "output_type": "stream",
     "text": [
      "Sample 1/2 now is formatted as challenge depicted:\n",
      "\n",
      "2000\n",
      "15\n",
      "10\n",
      "7\n",
      "0,200\n",
      "200,400\n",
      "400,600\n",
      "600,800\n",
      "800,1000\n",
      "1000,2000\n",
      "0,1800\n"
     ]
    }
   ],
   "source": [
    "sample_1 = util_chunks2string(sample_chunks, L=15, B=10)\n",
    "sample_2 = util_chunks2string(sample_chunks, L=5, B=10)\n",
    "\n",
    "print \"Sample 1/2 now is formatted as challenge depicted:\\n\"\n",
    "print '\\n'.join(sample_1)"
   ]
  },
  {
   "cell_type": "code",
   "execution_count": 11,
   "metadata": {
    "collapsed": false
   },
   "outputs": [],
   "source": [
    "with open('sample1.txt', 'w') as o:\n",
    "    o.write('\\n'.join(sample_1))\n",
    "    \n",
    "with open('sample2.txt', 'w') as o:\n",
    "    o.write('\\n'.join(sample_1))    "
   ]
  },
  {
   "cell_type": "markdown",
   "metadata": {},
   "source": [
    "Now that the test data are in files, formatted the same way as HackerRank sample data, we can just cat and pipe with stdin to read from standard in.\n",
    "\n",
    "    cat sample1.txt | python marsrover.py"
   ]
  },
  {
   "cell_type": "code",
   "execution_count": 9,
   "metadata": {
    "collapsed": false
   },
   "outputs": [
    {
     "name": "stdout",
     "output_type": "stream",
     "text": [
      "340.000"
     ]
    }
   ],
   "source": [
    "%%bash\n",
    "cat sample1.txt | python marsrover.py"
   ]
  },
  {
   "cell_type": "code",
   "execution_count": 12,
   "metadata": {
    "collapsed": false
   },
   "outputs": [
    {
     "name": "stdout",
     "output_type": "stream",
     "text": [
      "340.000"
     ]
    }
   ],
   "source": [
    "%%bash\n",
    "cat sample2.txt | python marsrover.py"
   ]
  }
 ],
 "metadata": {
  "kernelspec": {
   "display_name": "Python 2",
   "name": "python2"
  },
  "language_info": {
   "codemirror_mode": {
    "name": "ipython",
    "version": 2
   },
   "file_extension": ".py",
   "mimetype": "text/x-python",
   "name": "python",
   "nbconvert_exporter": "python",
   "pygments_lexer": "ipython2",
   "version": "2.7.6"
  }
 },
 "nbformat": 4,
 "nbformat_minor": 0
}
